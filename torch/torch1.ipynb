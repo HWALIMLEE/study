{
 "cells": [
  {
   "cell_type": "code",
   "execution_count": 1,
   "metadata": {},
   "outputs": [],
   "source": [
    "# torch tensor는 numpy array와 아주 유사\n",
    "import torch\n",
    "import numpy as np"
   ]
  },
  {
   "cell_type": "code",
   "execution_count": 2,
   "metadata": {
    "tags": []
   },
   "outputs": [
    {
     "output_type": "stream",
     "name": "stdout",
     "text": "tensor([[1.0561e-38, 1.0653e-38, 4.1327e-39, 8.9082e-39],\n        [9.8265e-39, 9.4592e-39, 1.0561e-38, 1.0929e-38],\n        [1.0102e-38, 4.5918e-39, 1.0561e-38, 1.0561e-38],\n        [1.0561e-38, 1.0745e-38, 1.0561e-38, 8.7245e-39],\n        [9.6429e-39, 9.6429e-39, 8.7245e-39, 4.2246e-39]])\n"
    }
   ],
   "source": [
    "x = torch.empty(5,4)\n",
    "print(x)"
   ]
  },
  {
   "cell_type": "code",
   "execution_count": 3,
   "metadata": {},
   "outputs": [
    {
     "output_type": "execute_result",
     "data": {
      "text/plain": "tensor([[1., 1., 1.],\n        [1., 1., 1.],\n        [1., 1., 1.]])"
     },
     "metadata": {},
     "execution_count": 3
    }
   ],
   "source": [
    "torch.ones(3,3)"
   ]
  },
  {
   "cell_type": "code",
   "execution_count": 4,
   "metadata": {},
   "outputs": [
    {
     "output_type": "execute_result",
     "data": {
      "text/plain": "tensor([0., 0.])"
     },
     "metadata": {},
     "execution_count": 4
    }
   ],
   "source": [
    "torch.zeros(2)"
   ]
  },
  {
   "cell_type": "code",
   "execution_count": 5,
   "metadata": {},
   "outputs": [
    {
     "output_type": "execute_result",
     "data": {
      "text/plain": "tensor([[0.9231, 0.2647, 0.7120, 0.3631, 0.8952, 0.6874],\n        [0.1284, 0.3846, 0.3764, 0.5544, 0.0531, 0.3977],\n        [0.8337, 0.6733, 0.4515, 0.0733, 0.1473, 0.4173],\n        [0.4652, 0.3817, 0.9106, 0.4313, 0.8050, 0.1649],\n        [0.2475, 0.9350, 0.9912, 0.7535, 0.3020, 0.9755]])"
     },
     "metadata": {},
     "execution_count": 5
    }
   ],
   "source": [
    "torch.rand(5,6)"
   ]
  },
  {
   "cell_type": "code",
   "execution_count": 6,
   "metadata": {},
   "outputs": [],
   "source": [
    "l = [13,4]\n",
    "r = np.array([4,56,7])"
   ]
  },
  {
   "cell_type": "code",
   "execution_count": 7,
   "metadata": {},
   "outputs": [
    {
     "output_type": "execute_result",
     "data": {
      "text/plain": "tensor([13,  4])"
     },
     "metadata": {},
     "execution_count": 7
    }
   ],
   "source": [
    "# 리스트나 어레이로 되어 있으면 텐서로 변환해야함\n",
    "torch.tensor(l)"
   ]
  },
  {
   "cell_type": "code",
   "execution_count": 8,
   "metadata": {},
   "outputs": [
    {
     "output_type": "execute_result",
     "data": {
      "text/plain": "tensor([ 4, 56,  7], dtype=torch.int32)"
     },
     "metadata": {},
     "execution_count": 8
    }
   ],
   "source": [
    "torch.tensor(r)"
   ]
  },
  {
   "cell_type": "code",
   "execution_count": 9,
   "metadata": {},
   "outputs": [
    {
     "output_type": "execute_result",
     "data": {
      "text/plain": "torch.Size([5, 4])"
     },
     "metadata": {},
     "execution_count": 9
    }
   ],
   "source": [
    "x.size()"
   ]
  },
  {
   "cell_type": "code",
   "execution_count": 10,
   "metadata": {},
   "outputs": [
    {
     "output_type": "execute_result",
     "data": {
      "text/plain": "torch.Tensor"
     },
     "metadata": {},
     "execution_count": 10
    }
   ],
   "source": [
    "type(x)"
   ]
  },
  {
   "cell_type": "code",
   "execution_count": 12,
   "metadata": {},
   "outputs": [],
   "source": [
    "x = torch.rand(2,2)\n",
    "y = torch.rand(2,2)"
   ]
  },
  {
   "cell_type": "code",
   "execution_count": 13,
   "metadata": {},
   "outputs": [
    {
     "output_type": "execute_result",
     "data": {
      "text/plain": "tensor([[0.2785, 0.6328],\n        [0.3267, 0.6452]])"
     },
     "metadata": {},
     "execution_count": 13
    }
   ],
   "source": [
    "x"
   ]
  },
  {
   "cell_type": "code",
   "execution_count": 14,
   "metadata": {},
   "outputs": [
    {
     "output_type": "execute_result",
     "data": {
      "text/plain": "tensor([[0.8577, 1.3362],\n        [1.1747, 1.1807]])"
     },
     "metadata": {},
     "execution_count": 14
    }
   ],
   "source": [
    "x+y"
   ]
  },
  {
   "cell_type": "code",
   "execution_count": 15,
   "metadata": {},
   "outputs": [
    {
     "output_type": "execute_result",
     "data": {
      "text/plain": "tensor([[0.8577, 1.3362],\n        [1.1747, 1.1807]])"
     },
     "metadata": {},
     "execution_count": 15
    }
   ],
   "source": [
    "torch.add(x,y)"
   ]
  },
  {
   "cell_type": "code",
   "execution_count": 16,
   "metadata": {},
   "outputs": [
    {
     "output_type": "execute_result",
     "data": {
      "text/plain": "tensor([[0.8577, 1.3362],\n        [1.1747, 1.1807]])"
     },
     "metadata": {},
     "execution_count": 16
    }
   ],
   "source": [
    "y.add(x)"
   ]
  },
  {
   "cell_type": "code",
   "execution_count": 17,
   "metadata": {},
   "outputs": [
    {
     "output_type": "execute_result",
     "data": {
      "text/plain": "tensor([[0.5791, 0.7035],\n        [0.8480, 0.5355]])"
     },
     "metadata": {},
     "execution_count": 17
    }
   ],
   "source": [
    "y"
   ]
  },
  {
   "cell_type": "markdown",
   "metadata": {},
   "source": [
    "# inplace방식(변수 대체)"
   ]
  },
  {
   "cell_type": "code",
   "execution_count": 18,
   "metadata": {},
   "outputs": [
    {
     "output_type": "execute_result",
     "data": {
      "text/plain": "tensor([[0.8577, 1.3362],\n        [1.1747, 1.1807]])"
     },
     "metadata": {},
     "execution_count": 18
    }
   ],
   "source": [
    "y.add_(x)"
   ]
  },
  {
   "cell_type": "code",
   "execution_count": 19,
   "metadata": {},
   "outputs": [
    {
     "output_type": "execute_result",
     "data": {
      "text/plain": "tensor([[0.8577, 1.3362],\n        [1.1747, 1.1807]])"
     },
     "metadata": {},
     "execution_count": 19
    }
   ],
   "source": [
    "y"
   ]
  },
  {
   "cell_type": "code",
   "execution_count": 21,
   "metadata": {},
   "outputs": [
    {
     "output_type": "execute_result",
     "data": {
      "text/plain": "tensor(1.1807)"
     },
     "metadata": {},
     "execution_count": 21
    }
   ],
   "source": [
    "y[1,1]"
   ]
  },
  {
   "cell_type": "code",
   "execution_count": 22,
   "metadata": {},
   "outputs": [
    {
     "output_type": "execute_result",
     "data": {
      "text/plain": "tensor([1.3362, 1.1807])"
     },
     "metadata": {},
     "execution_count": 22
    }
   ],
   "source": [
    "y[:,1]"
   ]
  },
  {
   "cell_type": "markdown",
   "metadata": {},
   "source": [
    "# view는 사이즈를 자유롭게 바꿀 수 있다(cnn에서 flatten할 때 많이 쓴다)"
   ]
  },
  {
   "cell_type": "code",
   "execution_count": 35,
   "metadata": {},
   "outputs": [
    {
     "output_type": "execute_result",
     "data": {
      "text/plain": "tensor([[0.5720, 0.4669, 0.8561, 0.0594, 0.5783, 0.7943, 0.2005, 0.4183],\n        [0.0985, 0.1818, 0.8033, 0.5986, 0.7820, 0.3211, 0.1126, 0.9442],\n        [0.3540, 0.8219, 0.0371, 0.1847, 0.8232, 0.0582, 0.2096, 0.7478],\n        [0.0950, 0.4377, 0.3364, 0.2036, 0.4365, 0.6049, 0.2675, 0.1371],\n        [0.4975, 0.7224, 0.5182, 0.0234, 0.2038, 0.2642, 0.5610, 0.6642],\n        [0.9294, 0.1941, 0.9044, 0.2624, 0.9827, 0.4364, 0.9274, 0.5937],\n        [0.5581, 0.2276, 0.4571, 0.6522, 0.2929, 0.6417, 0.7905, 0.4111],\n        [0.8302, 0.9315, 0.6920, 0.7404, 0.2723, 0.9894, 0.3578, 0.3552]])"
     },
     "metadata": {},
     "execution_count": 35
    }
   ],
   "source": [
    "x = torch.rand(8,8)\n",
    "x"
   ]
  },
  {
   "cell_type": "code",
   "execution_count": 27,
   "metadata": {},
   "outputs": [
    {
     "output_type": "execute_result",
     "data": {
      "text/plain": "tensor([0.8505, 0.9470, 0.8334, 0.9264, 0.4196, 0.7598, 0.0756, 0.9020, 0.3215,\n        0.0608, 0.6316, 0.4770, 0.1835, 0.9076, 0.3487, 0.7251, 0.8747, 0.3545,\n        0.0143, 0.9306, 0.7208, 0.1794, 0.4011, 0.5175, 0.5143, 0.4643, 0.9951,\n        0.3175, 0.9855, 0.4346, 0.5739, 0.2193, 0.8170, 0.9956, 0.8692, 0.8380,\n        0.4688, 0.2219, 0.3151, 0.0755, 0.3220, 0.9182, 0.5155, 0.0266, 0.8660,\n        0.1717, 0.8215, 0.1441, 0.7603, 0.5522, 0.1562, 0.7235, 0.3243, 0.7088,\n        0.3410, 0.1329, 0.2715, 0.9291, 0.4334, 0.0186, 0.5027, 0.8774, 0.2229,\n        0.6336])"
     },
     "metadata": {},
     "execution_count": 27
    }
   ],
   "source": [
    "# 1열로 변환\n",
    "x.view(64)"
   ]
  },
  {
   "cell_type": "code",
   "execution_count": 28,
   "metadata": {},
   "outputs": [
    {
     "output_type": "execute_result",
     "data": {
      "text/plain": "tensor([[0.8505, 0.9470, 0.8334, 0.9264, 0.4196, 0.7598, 0.0756, 0.9020, 0.3215,\n         0.0608, 0.6316, 0.4770, 0.1835, 0.9076, 0.3487, 0.7251],\n        [0.8747, 0.3545, 0.0143, 0.9306, 0.7208, 0.1794, 0.4011, 0.5175, 0.5143,\n         0.4643, 0.9951, 0.3175, 0.9855, 0.4346, 0.5739, 0.2193],\n        [0.8170, 0.9956, 0.8692, 0.8380, 0.4688, 0.2219, 0.3151, 0.0755, 0.3220,\n         0.9182, 0.5155, 0.0266, 0.8660, 0.1717, 0.8215, 0.1441],\n        [0.7603, 0.5522, 0.1562, 0.7235, 0.3243, 0.7088, 0.3410, 0.1329, 0.2715,\n         0.9291, 0.4334, 0.0186, 0.5027, 0.8774, 0.2229, 0.6336]])"
     },
     "metadata": {},
     "execution_count": 28
    }
   ],
   "source": [
    "x.view(4,16)"
   ]
  },
  {
   "cell_type": "code",
   "execution_count": 29,
   "metadata": {},
   "outputs": [
    {
     "output_type": "execute_result",
     "data": {
      "text/plain": "tensor([[0.8505, 0.9470, 0.8334, 0.9264, 0.4196, 0.7598, 0.0756, 0.9020, 0.3215,\n         0.0608, 0.6316, 0.4770, 0.1835, 0.9076, 0.3487, 0.7251],\n        [0.8747, 0.3545, 0.0143, 0.9306, 0.7208, 0.1794, 0.4011, 0.5175, 0.5143,\n         0.4643, 0.9951, 0.3175, 0.9855, 0.4346, 0.5739, 0.2193],\n        [0.8170, 0.9956, 0.8692, 0.8380, 0.4688, 0.2219, 0.3151, 0.0755, 0.3220,\n         0.9182, 0.5155, 0.0266, 0.8660, 0.1717, 0.8215, 0.1441],\n        [0.7603, 0.5522, 0.1562, 0.7235, 0.3243, 0.7088, 0.3410, 0.1329, 0.2715,\n         0.9291, 0.4334, 0.0186, 0.5027, 0.8774, 0.2229, 0.6336]])"
     },
     "metadata": {},
     "execution_count": 29
    }
   ],
   "source": [
    "x.view(-1,16) # 16이 고정되어 있기 때문에 -1자리에 자동으로 4가 들어간다(나머지 값 고정되어 있어야함)"
   ]
  },
  {
   "cell_type": "code",
   "execution_count": 30,
   "metadata": {},
   "outputs": [],
   "source": [
    "# tensor>>>numpy\n",
    "y = x.numpy()"
   ]
  },
  {
   "cell_type": "code",
   "execution_count": 31,
   "metadata": {},
   "outputs": [
    {
     "output_type": "execute_result",
     "data": {
      "text/plain": "numpy.ndarray"
     },
     "metadata": {},
     "execution_count": 31
    }
   ],
   "source": [
    "type(y) # tensor에서 numpy로 변환"
   ]
  },
  {
   "cell_type": "markdown",
   "metadata": {},
   "source": [
    "# item은 tensor가 scalar일때만 사용 가능"
   ]
  },
  {
   "cell_type": "code",
   "execution_count": 32,
   "metadata": {},
   "outputs": [],
   "source": [
    "x = torch.ones(1)"
   ]
  },
  {
   "cell_type": "code",
   "execution_count": 33,
   "metadata": {},
   "outputs": [
    {
     "output_type": "execute_result",
     "data": {
      "text/plain": "tensor([1.])"
     },
     "metadata": {},
     "execution_count": 33
    }
   ],
   "source": [
    "x"
   ]
  },
  {
   "cell_type": "code",
   "execution_count": 34,
   "metadata": {},
   "outputs": [
    {
     "output_type": "execute_result",
     "data": {
      "text/plain": "1.0"
     },
     "metadata": {},
     "execution_count": 34
    }
   ],
   "source": [
    "x.item() # loss function 에서 loss값 직접 뽑아내고 싶을 때 많이 쓴다. "
   ]
  },
  {
   "cell_type": "code",
   "execution_count": null,
   "metadata": {},
   "outputs": [],
   "source": []
  }
 ],
 "metadata": {
  "language_info": {
   "codemirror_mode": {
    "name": "ipython",
    "version": 3
   },
   "file_extension": ".py",
   "mimetype": "text/x-python",
   "name": "python",
   "nbconvert_exporter": "python",
   "pygments_lexer": "ipython3",
   "version": "3.7.6-final"
  },
  "orig_nbformat": 2,
  "kernelspec": {
   "name": "python3",
   "display_name": "Python 3"
  }
 },
 "nbformat": 4,
 "nbformat_minor": 2
}